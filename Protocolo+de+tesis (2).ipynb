{
 "cells": [
  {
   "cell_type": "markdown",
   "metadata": {
    "collapsed": true
   },
   "source": [
    "# Caracteristícas físicas de eyecciones de masa coronal asociadas con tormentas geomagnéticas fuertes\n",
    "\n",
    "  \n",
    "### 1. Introducción\n",
    "      1.1. Antecedentes: Estructura y características de las eyecciones de masa coronal solares.\n",
    "         1.1.1  Clasificación\n",
    "         1.1.2  Propiedades   \n",
    "      1.2\tCiclo solar \n",
    "         1.2.1\tManchas solares      \n",
    "      1.3\tRegiones activas\n",
    "         1.3.1\tRáfagas\n",
    "         1.3.2\tProtuberancias      \n",
    "      1.4\tCoronografos\n",
    "      1.5\tGeoefectividad \n",
    "      1.6\tHipótesis\n",
    "      1.7\tJustificación\n",
    "      1.8\tObjetivo general\n",
    "      1.9\tMetas especificas\n",
    "\n",
    "### 2.\tMetodología\n",
    "      2.1\tBúsqueda de eyecciones de masa coronal tipo halo desde 1960\n",
    "      2.2\tAnálisis de geoefectividad  de las eyecciones de masa coronal\n",
    "      2.3   Desarrollo de software\n",
    "### 3.\tResultados\n",
    "      3.1\tCatalogo eyecciones de masa coronal fuertes\n",
    "\n",
    "### 4.\tDiscusión y Conclusiones\n",
    "      4.1\tTormentas geomagnéticas debidas a eyecciones de masa coronal muy fuertes\n",
    "      4.2\tEyecciones de masa coronal con partículas gamma \n",
    " \n",
    "### 5.\tReferencias\n",
    "### 6.\tApéndice\n",
    "\n",
    "\n",
    "\n",
    "\n",
    "\n",
    "\n"
   ]
  },
  {
   "cell_type": "markdown",
   "metadata": {
    "collapsed": true
   },
   "source": []
  },
  {
   "cell_type": "code",
   "execution_count": null,
   "metadata": {
    "collapsed": true
   },
   "outputs": [],
   "source": []
  }
 ],
 "metadata": {
  "kernelspec": {
   "display_name": "Julia 0.6.0",
   "language": "julia",
   "name": "julia-0.6"
  }
 },
 "nbformat": 4,
 "nbformat_minor": 2
}
